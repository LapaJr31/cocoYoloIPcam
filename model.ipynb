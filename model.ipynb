{
 "cells": [
  {
   "cell_type": "code",
   "execution_count": null,
   "id": "7ecc7f69",
   "metadata": {},
   "outputs": [],
   "source": [
    "%pip install ultralytics \"numpy<2.0\" "
   ]
  },
  {
   "cell_type": "code",
   "execution_count": null,
   "id": "c7c1ae29",
   "metadata": {},
   "outputs": [],
   "source": [
    "from ultralytics import YOLO"
   ]
  },
  {
   "cell_type": "code",
   "execution_count": null,
   "id": "d78c7c58",
   "metadata": {},
   "outputs": [],
   "source": [
    "model = YOLO('yolo11m.pt')\n",
    "\n",
    "results = model.train(\n",
    "    data='coco.yaml',\n",
    "    epochs=300,\n",
    "    imgsz=640,\n",
    "    batch=-1,\n",
    "    \n",
    "    optimizer='AdamW', \n",
    "    \n",
    "    # Learning rates\n",
    "    lr0=0.001,      \n",
    "    lrf=0.01,      \n",
    "    \n",
    "    weight_decay=0.0005,\n",
    "    \n",
    "    cos_lr=True,\n",
    "    warmup_epochs=5,\n",
    "    warmup_momentum=0.8,\n",
    "    warmup_bias_lr=0.1,\n",
    "    \n",
    "    degrees=10,\n",
    "    translate=0.1,\n",
    "    scale=0.5,\n",
    "    flipud=0.5\n",
    ")"
   ]
  }
 ],
 "metadata": {
  "kernelspec": {
   "display_name": "Python 3",
   "language": "python",
   "name": "python3"
  },
  "language_info": {
   "codemirror_mode": {
    "name": "ipython",
    "version": 3
   },
   "file_extension": ".py",
   "mimetype": "text/x-python",
   "name": "python",
   "nbconvert_exporter": "python",
   "pygments_lexer": "ipython3",
   "version": "3.10.12"
  }
 },
 "nbformat": 4,
 "nbformat_minor": 5
}
