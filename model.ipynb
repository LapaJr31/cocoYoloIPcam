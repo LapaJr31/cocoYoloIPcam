{
 "cells": [
  {
   "cell_type": "code",
   "execution_count": null,
   "id": "7ecc7f69",
   "metadata": {},
   "outputs": [],
   "source": [
    "%pip install ultralytics \"numpy<2.0\" fiftyone"
   ]
  },
  {
   "cell_type": "code",
   "execution_count": null,
   "id": "c7c1ae29",
   "metadata": {},
   "outputs": [],
   "source": [
    "from ultralytics import YOLO\n",
    "import fiftyone.zoo as fzo"
   ]
  },
  {
   "cell_type": "code",
   "execution_count": null,
   "id": "d78c7c58",
   "metadata": {},
   "outputs": [],
   "source": [
    "model = YOLO('yolo11n.pt')\n",
    "\n",
    "results = model.train(data=\"coco.yaml\", epochs=15, imgsz=640)"
   ]
  }
 ],
 "metadata": {
  "kernelspec": {
   "display_name": ".venv",
   "language": "python",
   "name": "python3"
  },
  "language_info": {
   "codemirror_mode": {
    "name": "ipython",
    "version": 3
   },
   "file_extension": ".py",
   "mimetype": "text/x-python",
   "name": "python",
   "nbconvert_exporter": "python",
   "pygments_lexer": "ipython3",
   "version": "3.12.11"
  }
 },
 "nbformat": 4,
 "nbformat_minor": 5
}
