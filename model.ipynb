{
 "cells": [
  {
   "cell_type": "code",
   "execution_count": null,
   "id": "7ecc7f69",
   "metadata": {},
   "outputs": [],
   "source": [
    "%pip install ultralytics \"numpy<2.0\" "
   ]
  },
  {
   "cell_type": "code",
   "execution_count": null,
   "id": "c7c1ae29",
   "metadata": {},
   "outputs": [],
   "source": [
    "from ultralytics import YOLO"
   ]
  },
  {
   "cell_type": "code",
   "execution_count": null,
   "id": "d78c7c58",
   "metadata": {},
   "outputs": [],
   "source": [
    "model = YOLO('yolo11m.pt')\n",
    "\n",
    "results = model.train(data ='coco.yaml', epochs = 100, imgsz=640, batch=4096,  degrees=10, translate=0.1, scale=0.5, flipud=0.5, cos_lr=True, warmup_epochs=5\n",
    ")"
   ]
  }
 ],
 "metadata": {
  "kernelspec": {
   "display_name": ".venv",
   "language": "python",
   "name": "python3"
  },
  "language_info": {
   "codemirror_mode": {
    "name": "ipython",
    "version": 3
   },
   "file_extension": ".py",
   "mimetype": "text/x-python",
   "name": "python",
   "nbconvert_exporter": "python",
   "pygments_lexer": "ipython3",
   "version": "3.12.11"
  }
 },
 "nbformat": 4,
 "nbformat_minor": 5
}
